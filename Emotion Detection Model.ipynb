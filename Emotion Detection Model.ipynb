{
 "cells": [
  {
   "cell_type": "code",
   "execution_count": 1,
   "id": "13d7222b",
   "metadata": {},
   "outputs": [],
   "source": [
    "# Once Model has been saved in H5 format, copy the path of the file and paste it on model load location within main python code"
   ]
  },
  {
   "cell_type": "code",
   "execution_count": 27,
   "id": "c746536a",
   "metadata": {},
   "outputs": [],
   "source": [
    "import numpy as np\n",
    "import pandas as pd\n",
    "from tensorflow.keras.layers import Conv2D, Dense, Flatten, MaxPool2D\n",
    "from tensorflow.keras.applications import VGG16\n",
    "from tensorflow.keras.models import save_model, load_model, Sequential\n",
    "from tensorflow.keras.activations import softmax, relu\n",
    "from tensorflow.keras.optimizers import Adam\n",
    "from tensorflow.keras.callbacks import ModelCheckpoint\n",
    "from tensorflow.keras.preprocessing.image import ImageDataGenerator, load_img, img_to_array\n",
    "from tensorflow.keras.layers import BatchNormalization, Dropout"
   ]
  },
  {
   "cell_type": "code",
   "execution_count": 2,
   "id": "9dbd48ee",
   "metadata": {},
   "outputs": [],
   "source": [
    "import os\n",
    "import random\n",
    "import shutil\n",
    "import tensorflow as tf\n",
    "import keras\n",
    "import matplotlib.pyplot as plt\n",
    "%matplotlib inline"
   ]
  },
  {
   "cell_type": "code",
   "execution_count": 3,
   "id": "f970607d",
   "metadata": {},
   "outputs": [],
   "source": [
    "if not os.path.isdir(\"C:\\\\Users\\\\Vivek K N\\\\Images Dataset\\\\Human Emotions\\\\valid\\\\\"):\n",
    "    os.makedirs(\"C:\\\\Users\\\\Vivek K N\\\\Images Dataset\\\\Human Emotions\\\\valid\")"
   ]
  },
  {
   "cell_type": "code",
   "execution_count": 4,
   "id": "5661a49e",
   "metadata": {},
   "outputs": [],
   "source": [
    "emotions_list = ['angry', 'sad', 'disgust', 'fear', 'happy', 'neutral', 'surprise']\n",
    "if os.path.isdir(f\"C:\\\\Users\\\\Vivek K N\\\\Images Dataset\\\\Human Emotions\\\\valid\\\\\") is False:\n",
    "    for emotion in emotions_list: \n",
    "        os.mkdir(f\"C:\\\\Users\\\\Vivek K N\\\\Images Dataset\\\\Human Emotions\\\\valid\\\\{emotion}\")\n",
    "        valid_samples = random.sample(os.listdir(path = f\"C:\\\\Users\\\\Vivek K N\\\\Images Dataset\\\\Human Emotions\\\\train\\\\{emotion}\"), 3)\n",
    "        for j in valid_samples:\n",
    "            shutil.move(f\"C:\\\\Users\\\\Vivek K N\\\\Images Dataset\\\\Human Emotions\\\\train\\\\{emotion}\\\\{j}\", f\"C:\\\\Users\\\\Vivek K N\\\\Images Dataset\\\\Human Emotions\\\\valid\\\\{emotion}\")"
   ]
  },
  {
   "cell_type": "code",
   "execution_count": 5,
   "id": "5885f420",
   "metadata": {},
   "outputs": [],
   "source": [
    "train_path = \"C:\\\\Users\\\\Vivek K N\\\\Images Dataset\\\\Human Emotions\\\\train\\\\\"\n",
    "test_path = \"C:\\\\Users\\\\Vivek K N\\\\Images Dataset\\\\Human Emotions\\\\test\\\\\""
   ]
  },
  {
   "cell_type": "code",
   "execution_count": 6,
   "id": "6d8beed6",
   "metadata": {},
   "outputs": [
    {
     "name": "stdout",
     "output_type": "stream",
     "text": [
      "Found 28688 images belonging to 7 classes.\n",
      "Found 7178 images belonging to 7 classes.\n"
     ]
    }
   ],
   "source": [
    "train_samples = ImageDataGenerator(width_shift_range = 0.2, height_shift_range = 0.2, horizontal_flip = True, rescale = 1./255, validation_split = 0.2).flow_from_directory(directory=train_path, batch_size=256, target_size=(48, 48), classes=emotions_list, color_mode=\"grayscale\")\n",
    "valid_samples = ImageDataGenerator(rescale = 1./255, validation_split = 0.2,).flow_from_directory(directory=test_path, batch_size=64, target_size=(48, 48), classes=emotions_list, color_mode=\"grayscale\")"
   ]
  },
  {
   "cell_type": "code",
   "execution_count": 7,
   "id": "1add764d",
   "metadata": {},
   "outputs": [],
   "source": [
    "assert train_samples.n == 28688\n",
    "assert valid_samples.n == 7178"
   ]
  },
  {
   "cell_type": "code",
   "execution_count": 8,
   "id": "e68ebb65",
   "metadata": {},
   "outputs": [],
   "source": [
    "assert train_samples.num_classes == valid_samples.num_classes"
   ]
  },
  {
   "cell_type": "code",
   "execution_count": 9,
   "id": "b38e913f",
   "metadata": {},
   "outputs": [],
   "source": [
    "images, labels = next(train_samples)\n",
    "def plot_Image(imag_array):\n",
    "    fig, axes = plt.subplots(5, 5, figsize=(5, 5))\n",
    "    axes = axes.flatten()\n",
    "    for imag, ax in zip(imag_array, axes):\n",
    "        ax.imshow(imag)\n",
    "        ax.axis('off')\n",
    "    plt.tight_layout()\n",
    "    plt.show()"
   ]
  },
  {
   "cell_type": "markdown",
   "id": "ed0c631f",
   "metadata": {},
   "source": [
    "## Importing and Training Model"
   ]
  },
  {
   "cell_type": "code",
   "execution_count": 10,
   "id": "0944d9fa",
   "metadata": {},
   "outputs": [],
   "source": [
    "Model = Sequential([\n",
    "    Conv2D(filters=32, kernel_size=(3, 3), activation=\"relu\", padding=\"same\", input_shape=(48, 48, 1)),\n",
    "    BatchNormalization(),\n",
    "    \n",
    "    Conv2D(filters=64, kernel_size=(3, 3), activation=\"relu\", padding=\"same\"),\n",
    "    BatchNormalization(),\n",
    "    MaxPool2D(pool_size=(2, 2)),\n",
    "    Dropout(0.25),\n",
    "    \n",
    "    Conv2D(filters=128, kernel_size=(3, 3), activation=\"relu\", padding=\"same\"),\n",
    "    BatchNormalization(),\n",
    "    \n",
    "    Conv2D(filters=128, kernel_size=(3, 3), activation=\"relu\", padding=\"same\"),\n",
    "    BatchNormalization(),\n",
    "    MaxPool2D(pool_size=(2, 2)),\n",
    "    Dropout(0.25),\n",
    "    \n",
    "    Conv2D(filters=256, kernel_size=(3, 3), activation=\"relu\", padding=\"same\"),\n",
    "    BatchNormalization(),\n",
    "    \n",
    "    Conv2D(filters=256, kernel_size=(3, 3), activation=\"relu\", padding=\"same\"),\n",
    "    BatchNormalization(),\n",
    "    MaxPool2D(pool_size=(2, 2)),\n",
    "    Dropout(0.25),\n",
    "    \n",
    "    Flatten(),\n",
    "    Dense(units=256, activation=\"relu\"),\n",
    "    BatchNormalization(),\n",
    "    Dropout(0.5),\n",
    "    Dense(units=128, activation=\"relu\"),\n",
    "    Dense(units=7, activation=\"softmax\"),\n",
    "])"
   ]
  },
  {
   "cell_type": "code",
   "execution_count": 11,
   "id": "7933989f",
   "metadata": {},
   "outputs": [
    {
     "name": "stdout",
     "output_type": "stream",
     "text": [
      "Model: \"sequential\"\n",
      "_________________________________________________________________\n",
      " Layer (type)                Output Shape              Param #   \n",
      "=================================================================\n",
      " conv2d (Conv2D)             (None, 48, 48, 32)        320       \n",
      "                                                                 \n",
      " batch_normalization (Batch  (None, 48, 48, 32)        128       \n",
      " Normalization)                                                  \n",
      "                                                                 \n",
      " conv2d_1 (Conv2D)           (None, 48, 48, 64)        18496     \n",
      "                                                                 \n",
      " batch_normalization_1 (Bat  (None, 48, 48, 64)        256       \n",
      " chNormalization)                                                \n",
      "                                                                 \n",
      " max_pooling2d (MaxPooling2  (None, 24, 24, 64)        0         \n",
      " D)                                                              \n",
      "                                                                 \n",
      " dropout (Dropout)           (None, 24, 24, 64)        0         \n",
      "                                                                 \n",
      " conv2d_2 (Conv2D)           (None, 24, 24, 128)       73856     \n",
      "                                                                 \n",
      " batch_normalization_2 (Bat  (None, 24, 24, 128)       512       \n",
      " chNormalization)                                                \n",
      "                                                                 \n",
      " conv2d_3 (Conv2D)           (None, 24, 24, 128)       147584    \n",
      "                                                                 \n",
      " batch_normalization_3 (Bat  (None, 24, 24, 128)       512       \n",
      " chNormalization)                                                \n",
      "                                                                 \n",
      " max_pooling2d_1 (MaxPoolin  (None, 12, 12, 128)       0         \n",
      " g2D)                                                            \n",
      "                                                                 \n",
      " dropout_1 (Dropout)         (None, 12, 12, 128)       0         \n",
      "                                                                 \n",
      " conv2d_4 (Conv2D)           (None, 12, 12, 256)       295168    \n",
      "                                                                 \n",
      " batch_normalization_4 (Bat  (None, 12, 12, 256)       1024      \n",
      " chNormalization)                                                \n",
      "                                                                 \n",
      " conv2d_5 (Conv2D)           (None, 12, 12, 256)       590080    \n",
      "                                                                 \n",
      " batch_normalization_5 (Bat  (None, 12, 12, 256)       1024      \n",
      " chNormalization)                                                \n",
      "                                                                 \n",
      " max_pooling2d_2 (MaxPoolin  (None, 6, 6, 256)         0         \n",
      " g2D)                                                            \n",
      "                                                                 \n",
      " dropout_2 (Dropout)         (None, 6, 6, 256)         0         \n",
      "                                                                 \n",
      " flatten (Flatten)           (None, 9216)              0         \n",
      "                                                                 \n",
      " dense (Dense)               (None, 256)               2359552   \n",
      "                                                                 \n",
      " batch_normalization_6 (Bat  (None, 256)               1024      \n",
      " chNormalization)                                                \n",
      "                                                                 \n",
      " dropout_3 (Dropout)         (None, 256)               0         \n",
      "                                                                 \n",
      " dense_1 (Dense)             (None, 128)               32896     \n",
      "                                                                 \n",
      " dense_2 (Dense)             (None, 7)                 903       \n",
      "                                                                 \n",
      "=================================================================\n",
      "Total params: 3523335 (13.44 MB)\n",
      "Trainable params: 3521095 (13.43 MB)\n",
      "Non-trainable params: 2240 (8.75 KB)\n",
      "_________________________________________________________________\n"
     ]
    }
   ],
   "source": [
    "Model.summary()"
   ]
  },
  {
   "cell_type": "code",
   "execution_count": 12,
   "id": "0a46633c",
   "metadata": {},
   "outputs": [],
   "source": [
    "Model.compile(optimizer=Adam(learning_rate=0.0001), loss=\"categorical_crossentropy\", metrics=['accuracy'])"
   ]
  },
  {
   "cell_type": "code",
   "execution_count": 13,
   "id": "ccf557f5",
   "metadata": {},
   "outputs": [],
   "source": [
    "Callbacks = ModelCheckpoint(filepath=\"D:\\\\Emotion Models\\\\model_weights.h5\", monitor=\"val_accuracy\", save_best_only=True, save_weights_only=\"True\", mode='max', verbose=1)"
   ]
  },
  {
   "cell_type": "code",
   "execution_count": 14,
   "id": "553d3de5",
   "metadata": {},
   "outputs": [
    {
     "name": "stdout",
     "output_type": "stream",
     "text": [
      "Epoch 1/50\n",
      "\n",
      "Epoch 1: val_accuracy improved from -inf to 0.17177, saving model to D:\\Emotion Models\\model_weights.h5\n",
      "113/113 - 180s - loss: 2.5203 - accuracy: 0.1659 - val_loss: 1.9305 - val_accuracy: 0.1718 - 180s/epoch - 2s/step\n",
      "Epoch 2/50\n",
      "\n",
      "Epoch 2: val_accuracy did not improve from 0.17177\n",
      "113/113 - 183s - loss: 2.0460 - accuracy: 0.2233 - val_loss: 2.1540 - val_accuracy: 0.1718 - 183s/epoch - 2s/step\n",
      "Epoch 3/50\n",
      "\n",
      "Epoch 3: val_accuracy did not improve from 0.17177\n",
      "113/113 - 183s - loss: 1.9757 - accuracy: 0.2343 - val_loss: 2.1139 - val_accuracy: 0.1718 - 183s/epoch - 2s/step\n",
      "Epoch 4/50\n",
      "\n",
      "Epoch 4: val_accuracy improved from 0.17177 to 0.22262, saving model to D:\\Emotion Models\\model_weights.h5\n",
      "113/113 - 178s - loss: 1.9269 - accuracy: 0.2431 - val_loss: 1.9395 - val_accuracy: 0.2226 - 178s/epoch - 2s/step\n",
      "Epoch 5/50\n",
      "\n",
      "Epoch 5: val_accuracy improved from 0.22262 to 0.25926, saving model to D:\\Emotion Models\\model_weights.h5\n",
      "113/113 - 177s - loss: 1.8965 - accuracy: 0.2487 - val_loss: 2.0608 - val_accuracy: 0.2593 - 177s/epoch - 2s/step\n",
      "Epoch 6/50\n",
      "\n",
      "Epoch 6: val_accuracy improved from 0.25926 to 0.27626, saving model to D:\\Emotion Models\\model_weights.h5\n",
      "113/113 - 176s - loss: 1.8497 - accuracy: 0.2706 - val_loss: 1.8653 - val_accuracy: 0.2763 - 176s/epoch - 2s/step\n",
      "Epoch 7/50\n",
      "\n",
      "Epoch 7: val_accuracy improved from 0.27626 to 0.31457, saving model to D:\\Emotion Models\\model_weights.h5\n",
      "113/113 - 175s - loss: 1.8097 - accuracy: 0.2819 - val_loss: 1.7686 - val_accuracy: 0.3146 - 175s/epoch - 2s/step\n",
      "Epoch 8/50\n",
      "\n",
      "Epoch 8: val_accuracy did not improve from 0.31457\n",
      "113/113 - 174s - loss: 1.7688 - accuracy: 0.3072 - val_loss: 1.8365 - val_accuracy: 0.3093 - 174s/epoch - 2s/step\n",
      "Epoch 9/50\n",
      "\n",
      "Epoch 9: val_accuracy improved from 0.31457 to 0.35358, saving model to D:\\Emotion Models\\model_weights.h5\n",
      "113/113 - 174s - loss: 1.7418 - accuracy: 0.3175 - val_loss: 1.6869 - val_accuracy: 0.3536 - 174s/epoch - 2s/step\n",
      "Epoch 10/50\n",
      "\n",
      "Epoch 10: val_accuracy did not improve from 0.35358\n",
      "113/113 - 174s - loss: 1.7112 - accuracy: 0.3330 - val_loss: 1.8659 - val_accuracy: 0.3214 - 174s/epoch - 2s/step\n",
      "Epoch 11/50\n",
      "\n",
      "Epoch 11: val_accuracy improved from 0.35358 to 0.39133, saving model to D:\\Emotion Models\\model_weights.h5\n",
      "113/113 - 174s - loss: 1.6881 - accuracy: 0.3443 - val_loss: 1.5961 - val_accuracy: 0.3913 - 174s/epoch - 2s/step\n",
      "Epoch 12/50\n",
      "\n",
      "Epoch 12: val_accuracy improved from 0.39133 to 0.39579, saving model to D:\\Emotion Models\\model_weights.h5\n",
      "113/113 - 174s - loss: 1.6598 - accuracy: 0.3501 - val_loss: 1.5801 - val_accuracy: 0.3958 - 174s/epoch - 2s/step\n",
      "Epoch 13/50\n",
      "\n",
      "Epoch 13: val_accuracy improved from 0.39579 to 0.41390, saving model to D:\\Emotion Models\\model_weights.h5\n",
      "113/113 - 174s - loss: 1.6340 - accuracy: 0.3629 - val_loss: 1.5394 - val_accuracy: 0.4139 - 174s/epoch - 2s/step\n",
      "Epoch 14/50\n",
      "\n",
      "Epoch 14: val_accuracy did not improve from 0.41390\n",
      "113/113 - 174s - loss: 1.6142 - accuracy: 0.3698 - val_loss: 1.6313 - val_accuracy: 0.3965 - 174s/epoch - 2s/step\n",
      "Epoch 15/50\n",
      "\n",
      "Epoch 15: val_accuracy improved from 0.41390 to 0.42268, saving model to D:\\Emotion Models\\model_weights.h5\n",
      "113/113 - 173s - loss: 1.5843 - accuracy: 0.3846 - val_loss: 1.5948 - val_accuracy: 0.4227 - 173s/epoch - 2s/step\n",
      "Epoch 16/50\n",
      "\n",
      "Epoch 16: val_accuracy improved from 0.42268 to 0.44121, saving model to D:\\Emotion Models\\model_weights.h5\n",
      "113/113 - 173s - loss: 1.5599 - accuracy: 0.3925 - val_loss: 1.5014 - val_accuracy: 0.4412 - 173s/epoch - 2s/step\n",
      "Epoch 17/50\n",
      "\n",
      "Epoch 17: val_accuracy improved from 0.44121 to 0.45793, saving model to D:\\Emotion Models\\model_weights.h5\n",
      "113/113 - 173s - loss: 1.5334 - accuracy: 0.4054 - val_loss: 1.4987 - val_accuracy: 0.4579 - 173s/epoch - 2s/step\n",
      "Epoch 18/50\n",
      "\n",
      "Epoch 18: val_accuracy improved from 0.45793 to 0.47618, saving model to D:\\Emotion Models\\model_weights.h5\n",
      "113/113 - 173s - loss: 1.4991 - accuracy: 0.4182 - val_loss: 1.4486 - val_accuracy: 0.4762 - 173s/epoch - 2s/step\n",
      "Epoch 19/50\n",
      "\n",
      "Epoch 19: val_accuracy improved from 0.47618 to 0.48147, saving model to D:\\Emotion Models\\model_weights.h5\n",
      "113/113 - 174s - loss: 1.4768 - accuracy: 0.4274 - val_loss: 1.3999 - val_accuracy: 0.4815 - 174s/epoch - 2s/step\n",
      "Epoch 20/50\n",
      "\n",
      "Epoch 20: val_accuracy improved from 0.48147 to 0.49067, saving model to D:\\Emotion Models\\model_weights.h5\n",
      "113/113 - 174s - loss: 1.4563 - accuracy: 0.4392 - val_loss: 1.3596 - val_accuracy: 0.4907 - 174s/epoch - 2s/step\n",
      "Epoch 21/50\n",
      "\n",
      "Epoch 21: val_accuracy improved from 0.49067 to 0.49443, saving model to D:\\Emotion Models\\model_weights.h5\n",
      "113/113 - 172s - loss: 1.4324 - accuracy: 0.4485 - val_loss: 1.3781 - val_accuracy: 0.4944 - 172s/epoch - 2s/step\n",
      "Epoch 22/50\n",
      "\n",
      "Epoch 22: val_accuracy improved from 0.49443 to 0.50641, saving model to D:\\Emotion Models\\model_weights.h5\n",
      "113/113 - 173s - loss: 1.4027 - accuracy: 0.4582 - val_loss: 1.3112 - val_accuracy: 0.5064 - 173s/epoch - 2s/step\n",
      "Epoch 23/50\n",
      "\n",
      "Epoch 23: val_accuracy improved from 0.50641 to 0.51184, saving model to D:\\Emotion Models\\model_weights.h5\n",
      "113/113 - 173s - loss: 1.3910 - accuracy: 0.4632 - val_loss: 1.2855 - val_accuracy: 0.5118 - 173s/epoch - 2s/step\n",
      "Epoch 24/50\n",
      "\n",
      "Epoch 24: val_accuracy improved from 0.51184 to 0.52215, saving model to D:\\Emotion Models\\model_weights.h5\n",
      "113/113 - 173s - loss: 1.3691 - accuracy: 0.4727 - val_loss: 1.2517 - val_accuracy: 0.5222 - 173s/epoch - 2s/step\n",
      "Epoch 25/50\n",
      "\n",
      "Epoch 25: val_accuracy did not improve from 0.52215\n",
      "113/113 - 173s - loss: 1.3639 - accuracy: 0.4780 - val_loss: 1.2861 - val_accuracy: 0.5209 - 173s/epoch - 2s/step\n",
      "Epoch 26/50\n",
      "\n",
      "Epoch 26: val_accuracy improved from 0.52215 to 0.54138, saving model to D:\\Emotion Models\\model_weights.h5\n",
      "113/113 - 173s - loss: 1.3397 - accuracy: 0.4891 - val_loss: 1.2132 - val_accuracy: 0.5414 - 173s/epoch - 2s/step\n",
      "Epoch 27/50\n",
      "\n",
      "Epoch 27: val_accuracy did not improve from 0.54138\n",
      "113/113 - 174s - loss: 1.3219 - accuracy: 0.4932 - val_loss: 1.2331 - val_accuracy: 0.5351 - 174s/epoch - 2s/step\n",
      "Epoch 28/50\n",
      "\n",
      "Epoch 28: val_accuracy improved from 0.54138 to 0.54974, saving model to D:\\Emotion Models\\model_weights.h5\n",
      "113/113 - 183s - loss: 1.3076 - accuracy: 0.4993 - val_loss: 1.1884 - val_accuracy: 0.5497 - 183s/epoch - 2s/step\n",
      "Epoch 29/50\n",
      "\n",
      "Epoch 29: val_accuracy did not improve from 0.54974\n",
      "113/113 - 183s - loss: 1.2937 - accuracy: 0.5075 - val_loss: 1.2010 - val_accuracy: 0.5371 - 183s/epoch - 2s/step\n",
      "Epoch 30/50\n",
      "\n",
      "Epoch 30: val_accuracy improved from 0.54974 to 0.55224, saving model to D:\\Emotion Models\\model_weights.h5\n",
      "113/113 - 179s - loss: 1.2839 - accuracy: 0.5068 - val_loss: 1.1832 - val_accuracy: 0.5522 - 179s/epoch - 2s/step\n",
      "Epoch 31/50\n",
      "\n",
      "Epoch 31: val_accuracy improved from 0.55224 to 0.55294, saving model to D:\\Emotion Models\\model_weights.h5\n",
      "113/113 - 176s - loss: 1.2724 - accuracy: 0.5159 - val_loss: 1.1686 - val_accuracy: 0.5529 - 176s/epoch - 2s/step\n",
      "Epoch 32/50\n",
      "\n",
      "Epoch 32: val_accuracy improved from 0.55294 to 0.55419, saving model to D:\\Emotion Models\\model_weights.h5\n",
      "113/113 - 175s - loss: 1.2567 - accuracy: 0.5191 - val_loss: 1.1766 - val_accuracy: 0.5542 - 175s/epoch - 2s/step\n",
      "Epoch 33/50\n",
      "\n",
      "Epoch 33: val_accuracy improved from 0.55419 to 0.55782, saving model to D:\\Emotion Models\\model_weights.h5\n",
      "113/113 - 176s - loss: 1.2505 - accuracy: 0.5206 - val_loss: 1.1540 - val_accuracy: 0.5578 - 176s/epoch - 2s/step\n",
      "Epoch 34/50\n",
      "\n",
      "Epoch 34: val_accuracy did not improve from 0.55782\n",
      "113/113 - 175s - loss: 1.2396 - accuracy: 0.5229 - val_loss: 1.2165 - val_accuracy: 0.5486 - 175s/epoch - 2s/step\n",
      "Epoch 35/50\n",
      "\n",
      "Epoch 35: val_accuracy improved from 0.55782 to 0.57133, saving model to D:\\Emotion Models\\model_weights.h5\n",
      "113/113 - 175s - loss: 1.2284 - accuracy: 0.5332 - val_loss: 1.1182 - val_accuracy: 0.5713 - 175s/epoch - 2s/step\n",
      "Epoch 36/50\n",
      "\n",
      "Epoch 36: val_accuracy did not improve from 0.57133\n",
      "113/113 - 175s - loss: 1.2151 - accuracy: 0.5386 - val_loss: 1.1261 - val_accuracy: 0.5705 - 175s/epoch - 2s/step\n",
      "Epoch 37/50\n",
      "\n",
      "Epoch 37: val_accuracy improved from 0.57133 to 0.57843, saving model to D:\\Emotion Models\\model_weights.h5\n",
      "113/113 - 177s - loss: 1.2074 - accuracy: 0.5397 - val_loss: 1.1050 - val_accuracy: 0.5784 - 177s/epoch - 2s/step\n",
      "Epoch 38/50\n",
      "\n",
      "Epoch 38: val_accuracy improved from 0.57843 to 0.57941, saving model to D:\\Emotion Models\\model_weights.h5\n"
     ]
    },
    {
     "name": "stdout",
     "output_type": "stream",
     "text": [
      "113/113 - 178s - loss: 1.1963 - accuracy: 0.5435 - val_loss: 1.1004 - val_accuracy: 0.5794 - 178s/epoch - 2s/step\n",
      "Epoch 39/50\n",
      "\n",
      "Epoch 39: val_accuracy improved from 0.57941 to 0.58484, saving model to D:\\Emotion Models\\model_weights.h5\n",
      "113/113 - 177s - loss: 1.1839 - accuracy: 0.5497 - val_loss: 1.0960 - val_accuracy: 0.5848 - 177s/epoch - 2s/step\n",
      "Epoch 40/50\n",
      "\n",
      "Epoch 40: val_accuracy did not improve from 0.58484\n",
      "113/113 - 178s - loss: 1.1791 - accuracy: 0.5532 - val_loss: 1.1053 - val_accuracy: 0.5833 - 178s/epoch - 2s/step\n",
      "Epoch 41/50\n",
      "\n",
      "Epoch 41: val_accuracy did not improve from 0.58484\n",
      "113/113 - 181s - loss: 1.1734 - accuracy: 0.5512 - val_loss: 1.1012 - val_accuracy: 0.5783 - 181s/epoch - 2s/step\n",
      "Epoch 42/50\n",
      "\n",
      "Epoch 42: val_accuracy improved from 0.58484 to 0.59320, saving model to D:\\Emotion Models\\model_weights.h5\n",
      "113/113 - 178s - loss: 1.1601 - accuracy: 0.5579 - val_loss: 1.0687 - val_accuracy: 0.5932 - 178s/epoch - 2s/step\n",
      "Epoch 43/50\n",
      "\n",
      "Epoch 43: val_accuracy did not improve from 0.59320\n",
      "113/113 - 177s - loss: 1.1522 - accuracy: 0.5613 - val_loss: 1.0773 - val_accuracy: 0.5906 - 177s/epoch - 2s/step\n",
      "Epoch 44/50\n",
      "\n",
      "Epoch 44: val_accuracy did not improve from 0.59320\n",
      "113/113 - 176s - loss: 1.1486 - accuracy: 0.5620 - val_loss: 1.0784 - val_accuracy: 0.5899 - 176s/epoch - 2s/step\n",
      "Epoch 45/50\n",
      "\n",
      "Epoch 45: val_accuracy improved from 0.59320 to 0.60407, saving model to D:\\Emotion Models\\model_weights.h5\n",
      "113/113 - 175s - loss: 1.1370 - accuracy: 0.5645 - val_loss: 1.0584 - val_accuracy: 0.6041 - 175s/epoch - 2s/step\n",
      "Epoch 46/50\n",
      "\n",
      "Epoch 46: val_accuracy did not improve from 0.60407\n",
      "113/113 - 175s - loss: 1.1324 - accuracy: 0.5703 - val_loss: 1.0638 - val_accuracy: 0.5979 - 175s/epoch - 2s/step\n",
      "Epoch 47/50\n",
      "\n",
      "Epoch 47: val_accuracy did not improve from 0.60407\n",
      "113/113 - 174s - loss: 1.1235 - accuracy: 0.5752 - val_loss: 1.0768 - val_accuracy: 0.5919 - 174s/epoch - 2s/step\n",
      "Epoch 48/50\n",
      "\n",
      "Epoch 48: val_accuracy did not improve from 0.60407\n",
      "113/113 - 174s - loss: 1.1220 - accuracy: 0.5737 - val_loss: 1.0538 - val_accuracy: 0.5979 - 174s/epoch - 2s/step\n",
      "Epoch 49/50\n",
      "\n",
      "Epoch 49: val_accuracy did not improve from 0.60407\n",
      "113/113 - 181s - loss: 1.1107 - accuracy: 0.5769 - val_loss: 1.0931 - val_accuracy: 0.5871 - 181s/epoch - 2s/step\n",
      "Epoch 50/50\n",
      "\n",
      "Epoch 50: val_accuracy did not improve from 0.60407\n",
      "113/113 - 185s - loss: 1.0918 - accuracy: 0.5841 - val_loss: 1.0545 - val_accuracy: 0.6031 - 185s/epoch - 2s/step\n"
     ]
    },
    {
     "data": {
      "text/plain": [
       "<keras.src.callbacks.History at 0x19380115540>"
      ]
     },
     "execution_count": 14,
     "metadata": {},
     "output_type": "execute_result"
    }
   ],
   "source": [
    "Model.fit(train_samples, batch_size=10, epochs=50, validation_data=valid_samples, verbose=2, callbacks=[Callbacks])"
   ]
  },
  {
   "cell_type": "code",
   "execution_count": 20,
   "id": "5c43e1d8",
   "metadata": {},
   "outputs": [
    {
     "name": "stderr",
     "output_type": "stream",
     "text": [
      "C:\\Users\\Vivek K N\\anaconda3\\lib\\site-packages\\keras\\src\\engine\\training.py:3079: UserWarning: You are saving your model as an HDF5 file via `model.save()`. This file format is considered legacy. We recommend using instead the native Keras format, e.g. `model.save('my_model.keras')`.\n",
      "  saving_api.save_model(\n"
     ]
    }
   ],
   "source": [
    "from tensorflow.keras.models import save_model\n",
    "Model.save(\"D:\\\\model_weights.h5\")"
   ]
  },
  {
   "cell_type": "code",
   "execution_count": 21,
   "id": "ee27fdad",
   "metadata": {},
   "outputs": [],
   "source": [
    "from tensorflow.keras.models import load_model\n",
    "model = load_model(\"D:\\\\model_weights.h5\")"
   ]
  },
  {
   "cell_type": "code",
   "execution_count": 49,
   "id": "ade59d58",
   "metadata": {},
   "outputs": [
    {
     "name": "stdout",
     "output_type": "stream",
     "text": [
      "1/1 [==============================] - 0s 126ms/step\n",
      "The image is of disgust\n"
     ]
    },
    {
     "data": {
      "image/png": "[encoded data removed]",
      "text/plain": [
       "<Figure size 640x480 with 1 Axes>"
      ]
     },
     "metadata": {},
     "output_type": "display_data"
    }
   ],
   "source": [
    "path = \"C:\\\\Users\\\\Vivek K N\\\\Images Dataset\\\\Human Emotions\\\\valid\\\\disgust\\\\Training_27502021.jpg\"\n",
    "image = load_img(path, target_size=(48, 48), color_mode='grayscale')\n",
    "i = img_to_array(image)/255.0\n",
    "input_array = np.array([i])\n",
    "\n",
    "pred = np.argmax(model.predict(input_array))\n",
    "print(f\"The image is of {emotions_list[pred]}\")\n",
    "plt.imshow(input_array[0])\n",
    "plt.title(\"Input image\")\n",
    "plt.show()"
   ]
  },
  {
   "cell_type": "code",
   "execution_count": null,
   "id": "b73ad6e2",
   "metadata": {},
   "outputs": [],
   "source": []
  }
 ],
 "metadata": {
  "kernelspec": {
   "display_name": "Python 3 (ipykernel)",
   "language": "python",
   "name": "python3"
  },
  "language_info": {
   "codemirror_mode": {
    "name": "ipython",
    "version": 3
   },
   "file_extension": ".py",
   "mimetype": "text/x-python",
   "name": "python",
   "nbconvert_exporter": "python",
   "pygments_lexer": "ipython3",
   "version": "3.10.9"
  }
 },
 "nbformat": 4,
 "nbformat_minor": 5
}
